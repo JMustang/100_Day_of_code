{
  "nbformat": 4,
  "nbformat_minor": 0,
  "metadata": {
    "colab": {
      "provenance": [],
      "authorship_tag": "ABX9TyMCa4h/ZFr3TkcFTFTCCHHS",
      "include_colab_link": true
    },
    "kernelspec": {
      "name": "python3",
      "display_name": "Python 3"
    },
    "language_info": {
      "name": "python"
    }
  },
  "cells": [
    {
      "cell_type": "markdown",
      "metadata": {
        "id": "view-in-github",
        "colab_type": "text"
      },
      "source": [
        "<a href=\"https://colab.research.google.com/github/JMustang/100_Day_of_code/blob/main/desafios_curso_em_video.ipynb\" target=\"_parent\"><img src=\"https://colab.research.google.com/assets/colab-badge.svg\" alt=\"Open In Colab\"/></a>"
      ]
    },
    {
      "cell_type": "markdown",
      "source": [],
      "metadata": {
        "id": "FsXw7Aqq9K8J"
      }
    },
    {
      "cell_type": "markdown",
      "source": [
        "# Desafio simples"
      ],
      "metadata": {
        "id": "isU4GDuo9ZuT"
      }
    },
    {
      "cell_type": "code",
      "execution_count": null,
      "metadata": {
        "id": "xel2HtLKruMH",
        "outputId": "754fc252-2571-4892-ad01-c3791dccfcd2",
        "colab": {
          "base_uri": "https://localhost:8080/"
        }
      },
      "outputs": [
        {
          "output_type": "stream",
          "name": "stdout",
          "text": [
            "Qual seu nome? junior\n",
            "Ola junior, seja bem-vindo!\n"
          ]
        }
      ],
      "source": [
        "nome = input('Qual seu nome? ')\n",
        "print(f'Ola {nome}, seja bem-vindo!')"
      ]
    },
    {
      "cell_type": "code",
      "source": [
        "dia = input()\n",
        "mes = input()\n",
        "ano = input()\n",
        "print(f'Voce nasceu no dia {dia} de {mes} de {ano}. correto?')"
      ],
      "metadata": {
        "colab": {
          "base_uri": "https://localhost:8080/"
        },
        "id": "l_GMFFu876M4",
        "outputId": "860f77a4-4bf0-4fa0-ef93-7069e4690f77"
      },
      "execution_count": null,
      "outputs": [
        {
          "output_type": "stream",
          "name": "stdout",
          "text": [
            "05\n",
            "10\n",
            "1986\n",
            "Voce nasceu no dia 05 de 10 de 1986. correto?\n"
          ]
        }
      ]
    },
    {
      "cell_type": "code",
      "source": [
        "num1 = int(input('Digite o primeiro numero '))\n",
        "num2 = int(input('Digite o segundo numero '))\n",
        "print(f'A soma dos dois numeros é: ',num1+num2)"
      ],
      "metadata": {
        "colab": {
          "base_uri": "https://localhost:8080/"
        },
        "id": "MliQUVCx8vuP",
        "outputId": "c682e29e-a8d8-41df-939e-a2cf32a829c1"
      },
      "execution_count": null,
      "outputs": [
        {
          "output_type": "stream",
          "name": "stdout",
          "text": [
            "Digite o primeiro numero 5\n",
            "Digite o segundo numero 5\n",
            "A soma dos dois numeros é:  10\n"
          ]
        }
      ]
    },
    {
      "cell_type": "markdown",
      "source": [
        "# Exercicio 001"
      ],
      "metadata": {
        "id": "YX_6oKhFQQZ_"
      }
    },
    {
      "cell_type": "code",
      "source": [
        "print('Ola Mundo!!')"
      ],
      "metadata": {
        "colab": {
          "base_uri": "https://localhost:8080/"
        },
        "id": "6ax1N8gfQTui",
        "outputId": "de822502-695e-4c02-a529-9a38c2e106fd"
      },
      "execution_count": 1,
      "outputs": [
        {
          "output_type": "stream",
          "name": "stdout",
          "text": [
            "Ola Mundo!!\n"
          ]
        }
      ]
    }
  ]
}