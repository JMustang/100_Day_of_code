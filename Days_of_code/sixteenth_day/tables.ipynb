{
 "cells": [
  {
   "cell_type": "code",
   "execution_count": 11,
   "metadata": {},
   "outputs": [
    {
     "name": "stdout",
     "output_type": "stream",
     "text": [
      "+------------+-------+\n",
      "| Pokemon    | Type  |\n",
      "+------------+-------+\n",
      "| Charmander | Fire  |\n",
      "| Squirtle   | Water |\n",
      "| Bulbasaur  | Grass |\n",
      "+------------+-------+\n"
     ]
    }
   ],
   "source": [
    "from prettytable import PrettyTable\n",
    "table = PrettyTable()\n",
    "table.add_column('Pokemon', ['Charmander', 'Squirtle', 'Bulbasaur'])\n",
    "table.add_column('Type', ['Fire', 'Water', 'Grass'])\n",
    "table.align = 'l' # Left align city names\n",
    "\n",
    "print(table)"
   ]
  }
 ],
 "metadata": {
  "interpreter": {
   "hash": "767d51c1340bd893661ea55ea3124f6de3c7a262a8b4abca0554b478b1e2ff90"
  },
  "kernelspec": {
   "display_name": "Python 2.7.17 64-bit",
   "language": "python",
   "name": "python3"
  },
  "language_info": {
   "codemirror_mode": {
    "name": "ipython",
    "version": 2
   },
   "file_extension": ".py",
   "mimetype": "text/x-python",
   "name": "python",
   "nbconvert_exporter": "python",
   "pygments_lexer": "ipython2",
   "version": "2.7.17"
  },
  "orig_nbformat": 4
 },
 "nbformat": 4,
 "nbformat_minor": 2
}
